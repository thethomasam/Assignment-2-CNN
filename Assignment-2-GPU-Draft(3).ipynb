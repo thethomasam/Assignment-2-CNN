{
 "cells": [
  {
   "cell_type": "markdown",
   "metadata": {},
   "source": [
    "IMPORTING DATASET "
   ]
  },
  {
   "cell_type": "code",
   "execution_count": 1,
   "metadata": {},
   "outputs": [],
   "source": [
    "# basic python \n",
    "import numpy as np\n",
    "import matplotlib.pyplot as plt\n",
    "import matplotlib.pyplot as plt\n",
    "import pickle\n",
    "\n",
    "\n",
    "\n",
    "# torch functions \n",
    "import torch   #pytorch package\n",
    "import torchvision # load dataset\n",
    "from torch.utils.data import  Dataset\n",
    "\n",
    "\n",
    "import torchvision.transforms as transforms\n",
    "from torch.utils.data import random_split\n",
    "\n",
    "#neural network\n",
    "import torch.nn as nn\n",
    "import torch.nn.functional as F\n",
    "import torch.optim as optim   #optimizer\n",
    "from torchvision.utils import make_grid\n",
    "from torchsummary import summary\n",
    "import torch.optim as optim\n",
    "\n",
    "\n",
    "\n",
    "import torch\n"
   ]
  },
  {
   "cell_type": "code",
   "execution_count": 2,
   "metadata": {},
   "outputs": [],
   "source": [
    "device = torch.device('cuda:0' if torch.cuda.is_available() else 'cpu')"
   ]
  },
  {
   "cell_type": "code",
   "execution_count": 3,
   "metadata": {},
   "outputs": [
    {
     "data": {
      "text/plain": [
       "device(type='cuda', index=0)"
      ]
     },
     "execution_count": 3,
     "metadata": {},
     "output_type": "execute_result"
    }
   ],
   "source": [
    "device"
   ]
  },
  {
   "cell_type": "markdown",
   "metadata": {},
   "source": [
    "Load Datset"
   ]
  },
  {
   "cell_type": "code",
   "execution_count": 7,
   "metadata": {},
   "outputs": [],
   "source": [
    "def dataset_loader():\n",
    "    \n",
    "    \n",
    "    \n",
    "    transform= transforms.Compose(   # the transformations to be applied to the \n",
    "        [transforms.ToTensor(),\n",
    "        transforms.Normalize((0.5,0.5,0.5),(0.5,0.5,0.5))]\n",
    "    )\n",
    "\n",
    "\n",
    "\n",
    "\n",
    "    trainset=torchvision.datasets.CIFAR10(root=\"./data\",\n",
    "    download=True,\n",
    "    train=True,transform=transform)\n",
    "\n",
    "\n",
    "    \n",
    "    torch.manual_seed(43)\n",
    "    val_size = 5000\n",
    "    train_size = len(trainset) - val_size\n",
    "    train_ds, val_ds = random_split(trainset, [train_size, val_size])\n",
    "    \n",
    "\n",
    "    testset=torchvision.datasets.CIFAR10(root=\"./data\",\n",
    "    download=True,\n",
    "    train=False,transform=transform)\n",
    "    \n",
    "    torch.manual_seed(43)\n",
    "    val_size = 5000\n",
    "    train_size = len(trainset) - val_size\n",
    "    train_ds, val_ds = random_split(trainset, [train_size, val_size])\n",
    "\n",
    "\n",
    "\n",
    "    batchSize=4\n",
    "    valSize=2000\n",
    "    trainloader=torch.utils.data.DataLoader(train_ds,batch_size=batchSize,shuffle= True,num_workers=2)\n",
    "    validationloader=torch.utils.data.DataLoader(val_ds,batch_size=batchSize,shuffle= True,num_workers=2)\n",
    "    testloader=torch.utils.data.DataLoader(testset,batch_size=batchSize,shuffle=True,num_workers=2)\n",
    "\n",
    "    return trainloader,validationloader,testloader"
   ]
  },
  {
   "cell_type": "code",
   "execution_count": 7,
   "metadata": {},
   "outputs": [],
   "source": [
    "def dataset_loader_alex():   #AlexNet Data Loaded\n",
    "    transform_alex=transforms.Compose(\n",
    "    [transforms.Resize(256),\n",
    "        transforms.CenterCrop(224),\n",
    "        transforms.ToTensor(),\n",
    "        transforms.Normalize(mean=[0.485,0.456,0.406],std=[0.229,0.224,0.225]),]\n",
    "    )\n",
    "\n",
    "\n",
    "    trainset=torchvision.datasets.CIFAR10(root=\"./data\",\n",
    "    download=True,\n",
    "    train=True,transform=transform_alex)\n",
    "\n",
    "\n",
    "    torch.manual_seed(43)\n",
    "    val_size = 5000\n",
    "    train_size = len(trainset) - val_size\n",
    "    train_ds, val_ds = random_split(trainset, [train_size, val_size])\n",
    "\n",
    "\n",
    "    testset=torchvision.datasets.CIFAR10(root=\"./data\",\n",
    "    download=True,\n",
    "    train=False,transform=transform_alex  )\n",
    "\n",
    "    batchSize=4\n",
    "    valSize=2000\n",
    "    trainloader=torch.utils.data.DataLoader(train_ds,batch_size=batchSize,shuffle= True,num_workers=2)\n",
    "    validationloader=torch.utils.data.DataLoader(val_ds,batch_size=batchSize,shuffle= True,num_workers=2)\n",
    "    testloader=torch.utils.data.DataLoader(testset,batch_size=batchSize,shuffle=True,num_workers=2)\n",
    "\n",
    "    return trainloader,validationloader,testloader\n",
    "    "
   ]
  },
  {
   "cell_type": "code",
   "execution_count": null,
   "metadata": {},
   "outputs": [],
   "source": [
    "trainloader_alex=torch.utils.data.DataLoader(train_ds,batch_size=batchSize,shuffle= True,num_workers=2)\n",
    "validationloader_alex=torch.utils.data.DataLoader(val_ds,batch_size=batchSize,shuffle= True,num_workers=2)\n",
    "testloader_alex=torch.utils.data.DataLoader(testset,batch_size=batchSize,shuffle=True,num_workers=2)"
   ]
  },
  {
   "cell_type": "markdown",
   "metadata": {},
   "source": [
    "See the images"
   ]
  },
  {
   "cell_type": "markdown",
   "metadata": {},
   "source": [
    "See Whats Inside"
   ]
  },
  {
   "cell_type": "code",
   "execution_count": 28,
   "metadata": {},
   "outputs": [],
   "source": [
    "def imshow(img):\n",
    "    # img=img/2+0.5\n",
    "    npimg=img.numpy()\n",
    "    plt.imshow(np.transpose(np.img,(1,2,0)))\n",
    "    plt.show()"
   ]
  },
  {
   "cell_type": "code",
   "execution_count": 29,
   "metadata": {},
   "outputs": [
    {
     "name": "stderr",
     "output_type": "stream",
     "text": [
      "Clipping input data to the valid range for imshow with RGB data ([0..1] for floats or [0..255] for integers).\n"
     ]
    },
    {
     "data": {
      "image/png": "[encoded data removed]",
      "text/plain": [
       "<Figure size 1152x864 with 1 Axes>"
      ]
     },
     "metadata": {
      "needs_background": "light"
     },
     "output_type": "display_data"
    }
   ],
   "source": [
    "for images,labels in trainloader:\n",
    "    fi,ax=plt.subplots(figsize=(16,12))\n",
    "    ax.imshow(make_grid(images,nrow=16).permute(1,2,0))\n",
    "    break"
   ]
  },
  {
   "cell_type": "markdown",
   "metadata": {},
   "source": [
    "Define a Convolution Network Batch Normalized Network\n"
   ]
  },
  {
   "cell_type": "code",
   "execution_count": 7,
   "metadata": {},
   "outputs": [
    {
     "name": "stdout",
     "output_type": "stream",
     "text": [
      "==========================================================================================\n",
      "Layer (type:depth-idx)                   Output Shape              Param #\n",
      "==========================================================================================\n",
      "├─Sequential: 1-1                        [-1, 10]                  --\n",
      "|    └─Conv2d: 2-1                       [-1, 32, 32, 32]          896\n",
      "|    └─BatchNorm2d: 2-2                  [-1, 32, 32, 32]          64\n",
      "|    └─ReLU: 2-3                         [-1, 32, 32, 32]          --\n",
      "|    └─MaxPool2d: 2-4                    [-1, 32, 16, 16]          --\n",
      "|    └─Conv2d: 2-5                       [-1, 128, 16, 16]         36,992\n",
      "|    └─BatchNorm2d: 2-6                  [-1, 128, 16, 16]         256\n",
      "|    └─ReLU: 2-7                         [-1, 128, 16, 16]         --\n",
      "|    └─MaxPool2d: 2-8                    [-1, 128, 8, 8]           --\n",
      "|    └─Conv2d: 2-9                       [-1, 128, 8, 8]           147,584\n",
      "|    └─BatchNorm2d: 2-10                 [-1, 128, 8, 8]           256\n",
      "|    └─ReLU: 2-11                        [-1, 128, 8, 8]           --\n",
      "|    └─Conv2d: 2-12                      [-1, 64, 8, 8]            73,792\n",
      "|    └─BatchNorm2d: 2-13                 [-1, 64, 8, 8]            128\n",
      "|    └─ReLU: 2-14                        [-1, 64, 8, 8]            --\n",
      "|    └─MaxPool2d: 2-15                   [-1, 64, 4, 4]            --\n",
      "|    └─Flatten: 2-16                     [-1, 1024]                --\n",
      "|    └─Linear: 2-17                      [-1, 512]                 524,800\n",
      "|    └─ReLU: 2-18                        [-1, 512]                 --\n",
      "|    └─Linear: 2-19                      [-1, 256]                 131,328\n",
      "|    └─ReLU: 2-20                        [-1, 256]                 --\n",
      "|    └─Linear: 2-21                      [-1, 10]                  2,570\n",
      "==========================================================================================\n",
      "Total params: 918,666\n",
      "Trainable params: 918,666\n",
      "Non-trainable params: 0\n",
      "Total mult-adds (M): 26.05\n",
      "==========================================================================================\n",
      "Input size (MB): 0.01\n",
      "Forward/backward pass size (MB): 1.19\n",
      "Params size (MB): 3.50\n",
      "Estimated Total Size (MB): 4.71\n",
      "==========================================================================================\n"
     ]
    },
    {
     "data": {
      "text/plain": [
       "==========================================================================================\n",
       "Layer (type:depth-idx)                   Output Shape              Param #\n",
       "==========================================================================================\n",
       "├─Sequential: 1-1                        [-1, 10]                  --\n",
       "|    └─Conv2d: 2-1                       [-1, 32, 32, 32]          896\n",
       "|    └─BatchNorm2d: 2-2                  [-1, 32, 32, 32]          64\n",
       "|    └─ReLU: 2-3                         [-1, 32, 32, 32]          --\n",
       "|    └─MaxPool2d: 2-4                    [-1, 32, 16, 16]          --\n",
       "|    └─Conv2d: 2-5                       [-1, 128, 16, 16]         36,992\n",
       "|    └─BatchNorm2d: 2-6                  [-1, 128, 16, 16]         256\n",
       "|    └─ReLU: 2-7                         [-1, 128, 16, 16]         --\n",
       "|    └─MaxPool2d: 2-8                    [-1, 128, 8, 8]           --\n",
       "|    └─Conv2d: 2-9                       [-1, 128, 8, 8]           147,584\n",
       "|    └─BatchNorm2d: 2-10                 [-1, 128, 8, 8]           256\n",
       "|    └─ReLU: 2-11                        [-1, 128, 8, 8]           --\n",
       "|    └─Conv2d: 2-12                      [-1, 64, 8, 8]            73,792\n",
       "|    └─BatchNorm2d: 2-13                 [-1, 64, 8, 8]            128\n",
       "|    └─ReLU: 2-14                        [-1, 64, 8, 8]            --\n",
       "|    └─MaxPool2d: 2-15                   [-1, 64, 4, 4]            --\n",
       "|    └─Flatten: 2-16                     [-1, 1024]                --\n",
       "|    └─Linear: 2-17                      [-1, 512]                 524,800\n",
       "|    └─ReLU: 2-18                        [-1, 512]                 --\n",
       "|    └─Linear: 2-19                      [-1, 256]                 131,328\n",
       "|    └─ReLU: 2-20                        [-1, 256]                 --\n",
       "|    └─Linear: 2-21                      [-1, 10]                  2,570\n",
       "==========================================================================================\n",
       "Total params: 918,666\n",
       "Trainable params: 918,666\n",
       "Non-trainable params: 0\n",
       "Total mult-adds (M): 26.05\n",
       "==========================================================================================\n",
       "Input size (MB): 0.01\n",
       "Forward/backward pass size (MB): 1.19\n",
       "Params size (MB): 3.50\n",
       "Estimated Total Size (MB): 4.71\n",
       "=========================================================================================="
      ]
     },
     "execution_count": 7,
     "metadata": {},
     "output_type": "execute_result"
    }
   ],
   "source": [
    "import torch.nn as nn\n",
    "from torch.nn import functional as F\n",
    "\n",
    "class BatchNormalisation(nn.Module):\n",
    "    def __init__(self):\n",
    "        super().__init__()\n",
    "        self.cnn_layer=nn.Sequential(\n",
    "            \n",
    "            \n",
    "            nn.Conv2d(3,32,3,padding=1),\n",
    "            nn.BatchNorm2d(32),\n",
    "            nn.ReLU(),\n",
    "            nn.MaxPool2d(2,2),\n",
    "          \n",
    "            \n",
    "            nn.Conv2d(32,128,3,padding=1),\n",
    "            nn.BatchNorm2d(128),\n",
    "            nn.ReLU(),\n",
    "            nn.MaxPool2d(2,2),\n",
    "            \n",
    "            \n",
    "            nn.Conv2d(128,128,3,padding=1),\n",
    "            nn.BatchNorm2d(128),\n",
    "            nn.ReLU(),\n",
    "            \n",
    "            \n",
    "            nn.Conv2d(128,64,3,padding=1),\n",
    "            nn.BatchNorm2d(64),\n",
    "            nn.ReLU(),\n",
    "            nn.MaxPool2d(2,2),\n",
    "            \n",
    "            \n",
    "            nn.Flatten(),\n",
    "            nn.Linear(64*4*4,512),\n",
    "            nn.ReLU(),\n",
    "            nn.Linear(512,256),\n",
    "            nn.ReLU(),\n",
    "            nn.Linear(256,10)\n",
    "            \n",
    "            )\n",
    "      \n",
    "  \n",
    "    def forward(self, x):\n",
    "        x=self.cnn_layer(x)\n",
    "        return(x)\n",
    "        \n",
    "    \n",
    "    def diagnostics(self,batch):\n",
    "        correct = 0\n",
    "        total = 0\n",
    "    # since we're not training, we don't need to calculate the gradients for our outputs\n",
    "        with torch.no_grad():\n",
    "            loss_batch=[]\n",
    "            for data in batch:\n",
    "                images, labels = data[0].to(device),data[1].to(device)\n",
    "                # calculate outputs by running images through the network\n",
    "                outputs = self.forward(images)\n",
    "                # the class with the highest energy is what we choose as prediction\n",
    "                predicted = torch.argmax(outputs.data, 1)\n",
    "                total += labels.size(0)\n",
    "                correct += torch.sum(predicted == labels).sum().item()\n",
    "                # loss calculation \n",
    "                loss_batch.append(F.cross_entropy(outputs, labels))\n",
    "                \n",
    "        #print(f'Accuracy of the network on the 10000 test images: {100 * correct // total} %')\n",
    "        loss_batch_mean=torch.stack(loss_batch).mean()      \n",
    "        accuracy=100 * correct /total\n",
    "        return loss_batch_mean,accuracy\n",
    "\n",
    "batch_cnn = BatchNormalisation()\n",
    "\n",
    "summary(batch_cnn,(3,32,32))\n"
   ]
  },
  {
   "cell_type": "markdown",
   "metadata": {},
   "source": [
    "Define a Convolution Network Base CNN Network\n"
   ]
  },
  {
   "cell_type": "code",
   "execution_count": 9,
   "metadata": {},
   "outputs": [
    {
     "name": "stdout",
     "output_type": "stream",
     "text": [
      "==========================================================================================\n",
      "Layer (type:depth-idx)                   Output Shape              Param #\n",
      "==========================================================================================\n",
      "├─Sequential: 1-1                        [-1, 10]                  --\n",
      "|    └─Conv2d: 2-1                       [-1, 32, 32, 32]          896\n",
      "|    └─ReLU: 2-2                         [-1, 32, 32, 32]          --\n",
      "|    └─MaxPool2d: 2-3                    [-1, 32, 16, 16]          --\n",
      "|    └─Conv2d: 2-4                       [-1, 128, 16, 16]         36,992\n",
      "|    └─ReLU: 2-5                         [-1, 128, 16, 16]         --\n",
      "|    └─MaxPool2d: 2-6                    [-1, 128, 8, 8]           --\n",
      "|    └─Conv2d: 2-7                       [-1, 128, 8, 8]           147,584\n",
      "|    └─ReLU: 2-8                         [-1, 128, 8, 8]           --\n",
      "|    └─Conv2d: 2-9                       [-1, 64, 8, 8]            73,792\n",
      "|    └─ReLU: 2-10                        [-1, 64, 8, 8]            --\n",
      "|    └─MaxPool2d: 2-11                   [-1, 64, 4, 4]            --\n",
      "|    └─Flatten: 2-12                     [-1, 1024]                --\n",
      "|    └─Linear: 2-13                      [-1, 512]                 524,800\n",
      "|    └─ReLU: 2-14                        [-1, 512]                 --\n",
      "|    └─Linear: 2-15                      [-1, 256]                 131,328\n",
      "|    └─ReLU: 2-16                        [-1, 256]                 --\n",
      "|    └─Linear: 2-17                      [-1, 10]                  2,570\n",
      "==========================================================================================\n",
      "Total params: 917,962\n",
      "Trainable params: 917,962\n",
      "Non-trainable params: 0\n",
      "Total mult-adds (M): 26.05\n",
      "==========================================================================================\n",
      "Input size (MB): 0.01\n",
      "Forward/backward pass size (MB): 0.60\n",
      "Params size (MB): 3.50\n",
      "Estimated Total Size (MB): 4.11\n",
      "==========================================================================================\n"
     ]
    },
    {
     "data": {
      "text/plain": [
       "==========================================================================================\n",
       "Layer (type:depth-idx)                   Output Shape              Param #\n",
       "==========================================================================================\n",
       "├─Sequential: 1-1                        [-1, 10]                  --\n",
       "|    └─Conv2d: 2-1                       [-1, 32, 32, 32]          896\n",
       "|    └─ReLU: 2-2                         [-1, 32, 32, 32]          --\n",
       "|    └─MaxPool2d: 2-3                    [-1, 32, 16, 16]          --\n",
       "|    └─Conv2d: 2-4                       [-1, 128, 16, 16]         36,992\n",
       "|    └─ReLU: 2-5                         [-1, 128, 16, 16]         --\n",
       "|    └─MaxPool2d: 2-6                    [-1, 128, 8, 8]           --\n",
       "|    └─Conv2d: 2-7                       [-1, 128, 8, 8]           147,584\n",
       "|    └─ReLU: 2-8                         [-1, 128, 8, 8]           --\n",
       "|    └─Conv2d: 2-9                       [-1, 64, 8, 8]            73,792\n",
       "|    └─ReLU: 2-10                        [-1, 64, 8, 8]            --\n",
       "|    └─MaxPool2d: 2-11                   [-1, 64, 4, 4]            --\n",
       "|    └─Flatten: 2-12                     [-1, 1024]                --\n",
       "|    └─Linear: 2-13                      [-1, 512]                 524,800\n",
       "|    └─ReLU: 2-14                        [-1, 512]                 --\n",
       "|    └─Linear: 2-15                      [-1, 256]                 131,328\n",
       "|    └─ReLU: 2-16                        [-1, 256]                 --\n",
       "|    └─Linear: 2-17                      [-1, 10]                  2,570\n",
       "==========================================================================================\n",
       "Total params: 917,962\n",
       "Trainable params: 917,962\n",
       "Non-trainable params: 0\n",
       "Total mult-adds (M): 26.05\n",
       "==========================================================================================\n",
       "Input size (MB): 0.01\n",
       "Forward/backward pass size (MB): 0.60\n",
       "Params size (MB): 3.50\n",
       "Estimated Total Size (MB): 4.11\n",
       "=========================================================================================="
      ]
     },
     "execution_count": 9,
     "metadata": {},
     "output_type": "execute_result"
    }
   ],
   "source": [
    "class BaseCNN(nn.Module):\n",
    "    def __init__(self):\n",
    "        super().__init__()\n",
    "        self.cnn_layer=nn.Sequential(\n",
    "            \n",
    "            \n",
    "            nn.Conv2d(3,32,3,padding=1),\n",
    "            nn.ReLU(),\n",
    "            nn.MaxPool2d(2,2),\n",
    "          \n",
    "            \n",
    "            nn.Conv2d(32,128,3,padding=1),\n",
    "          \n",
    "            nn.ReLU(),\n",
    "            nn.MaxPool2d(2,2),\n",
    "            \n",
    "            \n",
    "            nn.Conv2d(128,128,3,padding=1),\n",
    "           \n",
    "            nn.ReLU(),\n",
    "            \n",
    "            \n",
    "            nn.Conv2d(128,64,3,padding=1),\n",
    "            \n",
    "            nn.ReLU(),\n",
    "            nn.MaxPool2d(2,2),\n",
    "            \n",
    "            \n",
    "            nn.Flatten(),\n",
    "            nn.Linear(64*4*4,512),\n",
    "            nn.ReLU(),\n",
    "            nn.Linear(512,256),\n",
    "            nn.ReLU(),\n",
    "            nn.Linear(256,10)\n",
    "            \n",
    "            )\n",
    "      \n",
    "  \n",
    "    def forward(self, x):\n",
    "        x=self.cnn_layer(x)\n",
    "        return(x)\n",
    "        \n",
    "    \n",
    "    def diagnostics(self,batch):\n",
    "        correct = 0\n",
    "        total = 0\n",
    "    # since we're not training, we don't need to calculate the gradients for our outputs\n",
    "        with torch.no_grad():\n",
    "            loss_batch=[]\n",
    "            for data in batch:\n",
    "                images, labels = data[0].to(device),data[1].to(device)\n",
    "                # calculate outputs by running images through the network\n",
    "                outputs = self.forward(images)\n",
    "                # the class with the highest energy is what we choose as prediction\n",
    "                predicted = torch.argmax(outputs.data, 1)\n",
    "                total += labels.size(0)\n",
    "                correct += torch.sum(predicted == labels).sum().item()\n",
    "                # loss calculation \n",
    "                loss_batch.append(F.cross_entropy(outputs, labels))\n",
    "                \n",
    "        #print(f'Accuracy of the network on the 10000 test images: {100 * correct // total} %')\n",
    "        loss_batch_mean=torch.stack(loss_batch).mean()      \n",
    "        accuracy=100 * correct /total\n",
    "        return loss_batch_mean,accuracy\n",
    "\n",
    "base_cnn = BaseCNN()\n",
    "\n",
    "summary(base_cnn,(3,32,32))"
   ]
  },
  {
   "cell_type": "markdown",
   "metadata": {},
   "source": [
    "Define a Convolution Network With  Sigmoid Activation Function Network\n"
   ]
  },
  {
   "cell_type": "code",
   "execution_count": 14,
   "metadata": {},
   "outputs": [
    {
     "name": "stdout",
     "output_type": "stream",
     "text": [
      "==========================================================================================\n",
      "Layer (type:depth-idx)                   Output Shape              Param #\n",
      "==========================================================================================\n",
      "├─Sequential: 1-1                        [-1, 10]                  --\n",
      "|    └─Conv2d: 2-1                       [-1, 32, 32, 32]          896\n",
      "|    └─Sigmoid: 2-2                      [-1, 32, 32, 32]          --\n",
      "|    └─MaxPool2d: 2-3                    [-1, 32, 16, 16]          --\n",
      "|    └─Conv2d: 2-4                       [-1, 128, 16, 16]         36,992\n",
      "|    └─Sigmoid: 2-5                      [-1, 128, 16, 16]         --\n",
      "|    └─MaxPool2d: 2-6                    [-1, 128, 8, 8]           --\n",
      "|    └─Conv2d: 2-7                       [-1, 128, 8, 8]           147,584\n",
      "|    └─Sigmoid: 2-8                      [-1, 128, 8, 8]           --\n",
      "|    └─Conv2d: 2-9                       [-1, 64, 8, 8]            73,792\n",
      "|    └─Sigmoid: 2-10                     [-1, 64, 8, 8]            --\n",
      "|    └─MaxPool2d: 2-11                   [-1, 64, 4, 4]            --\n",
      "|    └─Flatten: 2-12                     [-1, 1024]                --\n",
      "|    └─Linear: 2-13                      [-1, 512]                 524,800\n",
      "|    └─ReLU: 2-14                        [-1, 512]                 --\n",
      "|    └─Linear: 2-15                      [-1, 256]                 131,328\n",
      "|    └─ReLU: 2-16                        [-1, 256]                 --\n",
      "|    └─Linear: 2-17                      [-1, 10]                  2,570\n",
      "==========================================================================================\n",
      "Total params: 917,962\n",
      "Trainable params: 917,962\n",
      "Non-trainable params: 0\n",
      "Total mult-adds (M): 26.05\n",
      "==========================================================================================\n",
      "Input size (MB): 0.01\n",
      "Forward/backward pass size (MB): 0.60\n",
      "Params size (MB): 3.50\n",
      "Estimated Total Size (MB): 4.11\n",
      "==========================================================================================\n"
     ]
    },
    {
     "data": {
      "text/plain": [
       "==========================================================================================\n",
       "Layer (type:depth-idx)                   Output Shape              Param #\n",
       "==========================================================================================\n",
       "├─Sequential: 1-1                        [-1, 10]                  --\n",
       "|    └─Conv2d: 2-1                       [-1, 32, 32, 32]          896\n",
       "|    └─Sigmoid: 2-2                      [-1, 32, 32, 32]          --\n",
       "|    └─MaxPool2d: 2-3                    [-1, 32, 16, 16]          --\n",
       "|    └─Conv2d: 2-4                       [-1, 128, 16, 16]         36,992\n",
       "|    └─Sigmoid: 2-5                      [-1, 128, 16, 16]         --\n",
       "|    └─MaxPool2d: 2-6                    [-1, 128, 8, 8]           --\n",
       "|    └─Conv2d: 2-7                       [-1, 128, 8, 8]           147,584\n",
       "|    └─Sigmoid: 2-8                      [-1, 128, 8, 8]           --\n",
       "|    └─Conv2d: 2-9                       [-1, 64, 8, 8]            73,792\n",
       "|    └─Sigmoid: 2-10                     [-1, 64, 8, 8]            --\n",
       "|    └─MaxPool2d: 2-11                   [-1, 64, 4, 4]            --\n",
       "|    └─Flatten: 2-12                     [-1, 1024]                --\n",
       "|    └─Linear: 2-13                      [-1, 512]                 524,800\n",
       "|    └─ReLU: 2-14                        [-1, 512]                 --\n",
       "|    └─Linear: 2-15                      [-1, 256]                 131,328\n",
       "|    └─ReLU: 2-16                        [-1, 256]                 --\n",
       "|    └─Linear: 2-17                      [-1, 10]                  2,570\n",
       "==========================================================================================\n",
       "Total params: 917,962\n",
       "Trainable params: 917,962\n",
       "Non-trainable params: 0\n",
       "Total mult-adds (M): 26.05\n",
       "==========================================================================================\n",
       "Input size (MB): 0.01\n",
       "Forward/backward pass size (MB): 0.60\n",
       "Params size (MB): 3.50\n",
       "Estimated Total Size (MB): 4.11\n",
       "=========================================================================================="
      ]
     },
     "execution_count": 14,
     "metadata": {},
     "output_type": "execute_result"
    }
   ],
   "source": [
    "class Activation_CNN(nn.Module):\n",
    "    def __init__(self):\n",
    "        super().__init__()\n",
    "        self.cnn_layer=nn.Sequential(\n",
    "            \n",
    "            \n",
    "            nn.Conv2d(3,32,3,padding=1),\n",
    "            nn.Sigmoid(),\n",
    "            nn.MaxPool2d(2,2),\n",
    "          \n",
    "            \n",
    "            nn.Conv2d(32,128,3,padding=1),\n",
    "          \n",
    "            nn.Sigmoid(),\n",
    "            nn.MaxPool2d(2,2),\n",
    "            \n",
    "            \n",
    "            nn.Conv2d(128,128,3,padding=1),\n",
    "           \n",
    "            nn.Sigmoid(),\n",
    "            \n",
    "            \n",
    "            nn.Conv2d(128,64,3,padding=1),\n",
    "            \n",
    "            nn.Sigmoid(),\n",
    "            nn.MaxPool2d(2,2),\n",
    "            \n",
    "            \n",
    "            nn.Flatten(),\n",
    "            nn.Linear(64*4*4,512),\n",
    "            nn.ReLU(),\n",
    "            nn.Linear(512,256),\n",
    "            nn.ReLU(),\n",
    "            nn.Linear(256,10)\n",
    "            \n",
    "            )\n",
    "      \n",
    "  \n",
    "    def forward(self, x):\n",
    "        x=self.cnn_layer(x)\n",
    "        return(x)\n",
    "        \n",
    "    \n",
    "    def diagnostics(self,batch):\n",
    "        correct = 0\n",
    "        total = 0\n",
    "    # since we're not training, we don't need to calculate the gradients for our outputs\n",
    "        with torch.no_grad():\n",
    "            loss_batch=[]\n",
    "            for data in batch:\n",
    "                images, labels = data[0].to(device),data[1].to(device)\n",
    "                # calculate outputs \n",
    "                #running images through the network\n",
    "                outputs = self.forward(images)\n",
    "                # the class with the highest energy is what we choose as prediction\n",
    "                predicted = torch.argmax(outputs.data, 1)\n",
    "                total += labels.size(0)\n",
    "                correct += torch.sum(predicted == labels).sum().item()\n",
    "                # loss calculation \n",
    "                loss_batch.append(F.cross_entropy(outputs, labels))\n",
    "                \n",
    "        #print(f'Accuracy of the network on the 10000 test images: {100 * correct // total} %')\n",
    "        loss_batch_mean=torch.stack(loss_batch).mean()      \n",
    "        accuracy=100 * correct /total\n",
    "        return loss_batch_mean,accuracy\n",
    "\n",
    "act_pool = Activation_CNN()\n",
    "summary(act_pool,(3,32,32))"
   ]
  },
  {
   "cell_type": "markdown",
   "metadata": {},
   "source": [
    "Define a Convolution Network Batch With Average Pooling Network\n"
   ]
  },
  {
   "cell_type": "code",
   "execution_count": 21,
   "metadata": {},
   "outputs": [
    {
     "name": "stdout",
     "output_type": "stream",
     "text": [
      "==========================================================================================\n",
      "Layer (type:depth-idx)                   Output Shape              Param #\n",
      "==========================================================================================\n",
      "├─Sequential: 1-1                        [-1, 10]                  --\n",
      "|    └─Conv2d: 2-1                       [-1, 32, 32, 32]          896\n",
      "|    └─ReLU: 2-2                         [-1, 32, 32, 32]          --\n",
      "|    └─AvgPool2d: 2-3                    [-1, 32, 16, 16]          --\n",
      "|    └─Conv2d: 2-4                       [-1, 128, 16, 16]         36,992\n",
      "|    └─ReLU: 2-5                         [-1, 128, 16, 16]         --\n",
      "|    └─AvgPool2d: 2-6                    [-1, 128, 8, 8]           --\n",
      "|    └─Conv2d: 2-7                       [-1, 128, 8, 8]           147,584\n",
      "|    └─ReLU: 2-8                         [-1, 128, 8, 8]           --\n",
      "|    └─Conv2d: 2-9                       [-1, 64, 8, 8]            73,792\n",
      "|    └─ReLU: 2-10                        [-1, 64, 8, 8]            --\n",
      "|    └─AvgPool2d: 2-11                   [-1, 64, 4, 4]            --\n",
      "|    └─Flatten: 2-12                     [-1, 1024]                --\n",
      "|    └─Linear: 2-13                      [-1, 512]                 524,800\n",
      "|    └─ReLU: 2-14                        [-1, 512]                 --\n",
      "|    └─Linear: 2-15                      [-1, 256]                 131,328\n",
      "|    └─ReLU: 2-16                        [-1, 256]                 --\n",
      "|    └─Linear: 2-17                      [-1, 10]                  2,570\n",
      "==========================================================================================\n",
      "Total params: 917,962\n",
      "Trainable params: 917,962\n",
      "Non-trainable params: 0\n",
      "Total mult-adds (M): 26.05\n",
      "==========================================================================================\n",
      "Input size (MB): 0.01\n",
      "Forward/backward pass size (MB): 0.60\n",
      "Params size (MB): 3.50\n",
      "Estimated Total Size (MB): 4.11\n",
      "==========================================================================================\n"
     ]
    },
    {
     "data": {
      "text/plain": [
       "==========================================================================================\n",
       "Layer (type:depth-idx)                   Output Shape              Param #\n",
       "==========================================================================================\n",
       "├─Sequential: 1-1                        [-1, 10]                  --\n",
       "|    └─Conv2d: 2-1                       [-1, 32, 32, 32]          896\n",
       "|    └─ReLU: 2-2                         [-1, 32, 32, 32]          --\n",
       "|    └─AvgPool2d: 2-3                    [-1, 32, 16, 16]          --\n",
       "|    └─Conv2d: 2-4                       [-1, 128, 16, 16]         36,992\n",
       "|    └─ReLU: 2-5                         [-1, 128, 16, 16]         --\n",
       "|    └─AvgPool2d: 2-6                    [-1, 128, 8, 8]           --\n",
       "|    └─Conv2d: 2-7                       [-1, 128, 8, 8]           147,584\n",
       "|    └─ReLU: 2-8                         [-1, 128, 8, 8]           --\n",
       "|    └─Conv2d: 2-9                       [-1, 64, 8, 8]            73,792\n",
       "|    └─ReLU: 2-10                        [-1, 64, 8, 8]            --\n",
       "|    └─AvgPool2d: 2-11                   [-1, 64, 4, 4]            --\n",
       "|    └─Flatten: 2-12                     [-1, 1024]                --\n",
       "|    └─Linear: 2-13                      [-1, 512]                 524,800\n",
       "|    └─ReLU: 2-14                        [-1, 512]                 --\n",
       "|    └─Linear: 2-15                      [-1, 256]                 131,328\n",
       "|    └─ReLU: 2-16                        [-1, 256]                 --\n",
       "|    └─Linear: 2-17                      [-1, 10]                  2,570\n",
       "==========================================================================================\n",
       "Total params: 917,962\n",
       "Trainable params: 917,962\n",
       "Non-trainable params: 0\n",
       "Total mult-adds (M): 26.05\n",
       "==========================================================================================\n",
       "Input size (MB): 0.01\n",
       "Forward/backward pass size (MB): 0.60\n",
       "Params size (MB): 3.50\n",
       "Estimated Total Size (MB): 4.11\n",
       "=========================================================================================="
      ]
     },
     "execution_count": 21,
     "metadata": {},
     "output_type": "execute_result"
    }
   ],
   "source": [
    "class AvgPool_CNN(nn.Module):\n",
    "    def __init__(self):\n",
    "        super().__init__()\n",
    "        self.cnn_layer=nn.Sequential(\n",
    "            \n",
    "            \n",
    "            nn.Conv2d(3,32,3,padding=1),\n",
    "            nn.ReLU(),\n",
    "            nn.AvgPool2d(2,2),\n",
    "          \n",
    "            \n",
    "            nn.Conv2d(32,128,3,padding=1),\n",
    "          \n",
    "            nn.ReLU(),\n",
    "            nn.AvgPool2d(2,2),\n",
    "            \n",
    "            \n",
    "            nn.Conv2d(128,128,3,padding=1),\n",
    "           \n",
    "            nn.ReLU(),\n",
    "            \n",
    "            \n",
    "            nn.Conv2d(128,64,3,padding=1),\n",
    "            \n",
    "            nn.ReLU(),\n",
    "            nn.AvgPool2d(2,2),\n",
    "            \n",
    "            \n",
    "            nn.Flatten(),\n",
    "            nn.Linear(64*4*4,512),\n",
    "            nn.ReLU(),\n",
    "            nn.Linear(512,256),\n",
    "            nn.ReLU(),\n",
    "            nn.Linear(256,10)\n",
    "            \n",
    "            )\n",
    "      \n",
    "  \n",
    "    def forward(self, x):\n",
    "        x=self.cnn_layer(x)\n",
    "        return(x)\n",
    "        \n",
    "    \n",
    "    def diagnostics(self,batch):\n",
    "        correct = 0\n",
    "        total = 0\n",
    "    # since we're not training, we don't need to calculate the gradients for our outputs\n",
    "        with torch.no_grad():\n",
    "            loss_batch=[]\n",
    "            for data in batch:\n",
    "                images, labels = data[0].to(device),data[1].to(device)\n",
    "                # calculate outputs \n",
    "                #running images through the network\n",
    "                outputs = self.forward(images)\n",
    "                # the class with the highest energy is what we choose as prediction\n",
    "                predicted = torch.argmax(outputs.data, 1)\n",
    "                total += labels.size(0)\n",
    "                correct += torch.sum(predicted == labels).sum().item()\n",
    "                # loss calculation \n",
    "                loss_batch.append(F.cross_entropy(outputs, labels))\n",
    "                \n",
    "        #print(f'Accuracy of the network on the 10000 test images: {100 * correct // total} %')\n",
    "        loss_batch_mean=torch.stack(loss_batch).mean()      \n",
    "        accuracy=100 * correct /total\n",
    "        return loss_batch_mean,accuracy\n",
    "\n",
    "avg_pool = AvgPool_CNN()\n",
    "summary(avg_pool,(3,32,32))"
   ]
  },
  {
   "cell_type": "code",
   "execution_count": 11,
   "metadata": {},
   "outputs": [],
   "source": [
    "def test(testloader):\n",
    "    correct = 0\n",
    "    total = 0\n",
    "    # since we're not training, we don't need to calculate the gradients for our outputs\n",
    "    with torch.no_grad():\n",
    "        for data in testloader:\n",
    "            images, labels = data[0].to(device),data[1].to(device)\n",
    "            # calculate outputs by running images through the network\n",
    "            outputs = batch_cnn(images)\n",
    "            # the class with the highest energy is what we choose as prediction\n",
    "            _, predicted = torch.max(outputs.data, 1)\n",
    "            total += labels.size(0)\n",
    "            correct += (predicted == labels).sum().item()\n",
    "\n",
    "\n",
    "    print(f'Accuracy of the network on the 10000 test images: {100 * correct // total} %')"
   ]
  },
  {
   "cell_type": "code",
   "execution_count": 11,
   "metadata": {},
   "outputs": [],
   "source": [
    "def train(model,trainloader,validationloader):\n",
    "    validation_accuracy=[]\n",
    "    validation_loss=[]\n",
    "    training_loss=[]\n",
    "    training_accuracy=[]\n",
    "    criterion = nn.CrossEntropyLoss()\n",
    "    optimizer = optim.SGD(model.parameters(), lr=0.001, momentum=0.9)\n",
    "\n",
    "\n",
    "    for epoch in range(10):  # loop over the dataset multiple times\n",
    "        running_loss = 0.0\n",
    "        batch_train_loss=0.0\n",
    "        batch_accuracy=[]\n",
    "        batch_loss=[]\n",
    "        total=0\n",
    "        correct=0\n",
    "        for i, data in enumerate(trainloader, 0):\n",
    "            # get the inputs; data is a list of [inputs, labels]\n",
    "            inputs, labels = data[0].to(device),data[1].to(device)\n",
    "            # zero the parameter gradients\n",
    "            optimizer.zero_grad()\n",
    "\n",
    "            # forward + backward + optimize\n",
    "            outputs = model.forward(inputs)\n",
    "            \n",
    "            predicted = torch.max(outputs.data, 1)\n",
    "    #         print(predicted)\n",
    "            loss = criterion(outputs, labels)\n",
    "            loss.backward()\n",
    "            optimizer.step()\n",
    "            predicted = torch.argmax(outputs.data, 1)\n",
    "            total += labels.size(0)\n",
    "            correct += torch.sum(predicted == labels).item()\n",
    "            # print statistics\n",
    "            running_loss += loss.item()\n",
    "            batch_train_loss+=loss.item()\n",
    "            if i % 2000 == 1999:    # print every 2000 mini-batches\n",
    "                print(f'[{epoch + 1}, {i + 1:5d}] loss: {running_loss / 2000:.3f}')\n",
    "                running_loss = 0.0\n",
    "        \n",
    "        \n",
    "            batch_accuracy.append(correct/total)\n",
    "            batch_loss.append(batch_train_loss/total)\n",
    "            \n",
    "        train_accuracy=sum(batch_accuracy)/len(batch_accuracy)\n",
    "        train_loss=sum(batch_loss)/len(batch_loss)\n",
    "        \n",
    "        val_loss,val_accuracy=model.diagnostics(validationloader)\n",
    "        validation_loss.append(val_loss)\n",
    "        validation_accuracy.append(val_accuracy)\n",
    "        \n",
    "        training_loss.append(train_loss)\n",
    "        training_accuracy.append(train_accuracy)\n",
    "    \n",
    "    \n",
    "    #     training_loss.append(train_loss)\n",
    "    #     train_accuracy.append(train_acc)\n",
    "        \n",
    "        print(f'[{epoch + 1},{i + 1:5d}] train loss: {train_loss:.3f} validation loss: {val_loss:.3f} validation accuracy: {val_accuracy}')\n",
    "        \n",
    "    print('Finished Training')\n",
    "    return training_loss,training_accuracy,validation_loss,validation_accuracy"
   ]
  },
  {
   "cell_type": "code",
   "execution_count": null,
   "metadata": {},
   "outputs": [],
   "source": [
    "trainloader,validationloader,testloader=dataset_loader()\n",
    "training_loss,training_accuracy,validation_loss,validation_accuracy=train(base_cnn,trainloader,validationloader)"
   ]
  },
  {
   "cell_type": "markdown",
   "metadata": {},
   "source": [
    "Diagnostic Charts\n"
   ]
  },
  {
   "cell_type": "code",
   "execution_count": 19,
   "metadata": {},
   "outputs": [],
   "source": [
    "def plot_data_loss(train_loss,val_loss):\n",
    "    plt.plot(train_loss, label='train loss')\n",
    "    val=[i.tolist() for i in val_loss]\n",
    "    plt.plot(val,label='validation loss')\n",
    "    plt.xlabel('epoch')\n",
    "    plt.ylabel('loss')\n",
    "    plt.title('Loss vs. No. of epochs');\n",
    "    plt.legend()\n",
    "    plt.grid()\n",
    "# Show the plot\n",
    "    plt.show()\n",
    "def plot_data_acc(train_acc,val_acc):\n",
    "    train_acc=[i*100 for i in train_acc]\n",
    "    plt.plot( train_acc,label='train accuracy' )\n",
    "    plt.plot(val_acc, label='validation accuracy')\n",
    "    plt.xlabel('epoch')\n",
    "    plt.ylabel('accuracy')\n",
    "    plt.title('Accuracy  vs. No. of epochs');\n",
    "    plt.legend()\n",
    "    plt.grid()\n",
    "# Show the plot\n",
    "    plt.show()"
   ]
  },
  {
   "cell_type": "code",
   "execution_count": null,
   "metadata": {},
   "outputs": [],
   "source": [
    "## Base CNN Model Training & Validation Accuracy and Loss "
   ]
  },
  {
   "cell_type": "code",
   "execution_count": null,
   "metadata": {},
   "outputs": [],
   "source": [
    "plot_data_acc(training_accuracy,validation_accuracy)\n",
    "\n"
   ]
  },
  {
   "cell_type": "code",
   "execution_count": 34,
   "metadata": {},
   "outputs": [
    {
     "data": {
      "image/png": "[encoded data removed]",
      "text/plain": [
       "<Figure size 432x288 with 1 Axes>"
      ]
     },
     "metadata": {
      "needs_background": "light"
     },
     "output_type": "display_data"
    }
   ],
   "source": [
    "plot_data_loss(training_loss,validation_loss)"
   ]
  },
  {
   "cell_type": "code",
   "execution_count": null,
   "metadata": {},
   "outputs": [],
   "source": [
    "## Batch Normalized CNN Model Training & Validation Accuracy and Loss "
   ]
  },
  {
   "cell_type": "code",
   "execution_count": 35,
   "metadata": {},
   "outputs": [
    {
     "name": "stdout",
     "output_type": "stream",
     "text": [
      "Files already downloaded and verified\n",
      "Files already downloaded and verified\n",
      "[1,  2000] loss: 1.753\n",
      "[1,  4000] loss: 1.401\n",
      "[1,  6000] loss: 1.272\n",
      "[1,  8000] loss: 1.152\n",
      "[1, 10000] loss: 1.096\n",
      "[1,11250] train loss: 0.388 validation loss: 1.149 validation accuracy: 59.88\n",
      "[2,  2000] loss: 0.954\n",
      "[2,  4000] loss: 0.915\n",
      "[2,  6000] loss: 0.898\n",
      "[2,  8000] loss: 0.872\n",
      "[2, 10000] loss: 0.837\n",
      "[2,11250] train loss: 0.233 validation loss: 0.825 validation accuracy: 71.7\n",
      "[3,  2000] loss: 0.735\n",
      "[3,  4000] loss: 0.734\n",
      "[3,  6000] loss: 0.709\n",
      "[3,  8000] loss: 0.716\n",
      "[3, 10000] loss: 0.695\n",
      "[3,11250] train loss: 0.182 validation loss: 0.750 validation accuracy: 74.2\n",
      "[4,  2000] loss: 0.583\n",
      "[4,  4000] loss: 0.593\n",
      "[4,  6000] loss: 0.600\n",
      "[4,  8000] loss: 0.595\n",
      "[4, 10000] loss: 0.588\n",
      "[4,11250] train loss: 0.148 validation loss: 0.724 validation accuracy: 74.82\n",
      "[5,  2000] loss: 0.472\n",
      "[5,  4000] loss: 0.503\n",
      "[5,  6000] loss: 0.518\n",
      "[5,  8000] loss: 0.493\n",
      "[5, 10000] loss: 0.504\n",
      "[5,11250] train loss: 0.123 validation loss: 0.688 validation accuracy: 76.44\n",
      "[6,  2000] loss: 0.399\n",
      "[6,  4000] loss: 0.411\n",
      "[6,  6000] loss: 0.432\n",
      "[6,  8000] loss: 0.421\n",
      "[6, 10000] loss: 0.436\n",
      "[6,11250] train loss: 0.103 validation loss: 0.656 validation accuracy: 78.36\n",
      "[7,  2000] loss: 0.312\n",
      "[7,  4000] loss: 0.340\n",
      "[7,  6000] loss: 0.362\n",
      "[7,  8000] loss: 0.380\n",
      "[7, 10000] loss: 0.353\n",
      "[7,11250] train loss: 0.084 validation loss: 0.683 validation accuracy: 78.08\n",
      "[8,  2000] loss: 0.254\n",
      "[8,  4000] loss: 0.262\n",
      "[8,  6000] loss: 0.284\n",
      "[8,  8000] loss: 0.327\n",
      "[8, 10000] loss: 0.320\n",
      "[8,11250] train loss: 0.067 validation loss: 0.737 validation accuracy: 77.06\n",
      "[9,  2000] loss: 0.204\n",
      "[9,  4000] loss: 0.233\n",
      "[9,  6000] loss: 0.236\n",
      "[9,  8000] loss: 0.257\n",
      "[9, 10000] loss: 0.259\n",
      "[9,11250] train loss: 0.055 validation loss: 0.774 validation accuracy: 77.3\n",
      "[10,  2000] loss: 0.167\n",
      "[10,  4000] loss: 0.186\n",
      "[10,  6000] loss: 0.212\n",
      "[10,  8000] loss: 0.198\n",
      "[10, 10000] loss: 0.217\n",
      "[10,11250] train loss: 0.046 validation loss: 0.753 validation accuracy: 78.46\n",
      "Finished Training\n"
     ]
    }
   ],
   "source": [
    "trainloader,validationloader,testloader=dataset_loader()\n",
    "training_loss_batch,training_accuracy_batch,validation_loss_batch,validation_accuracy_batch=train(batch_cnn,trainloader,validationloader)"
   ]
  },
  {
   "cell_type": "code",
   "execution_count": 36,
   "metadata": {},
   "outputs": [
    {
     "data": {
      "image/png": "[encoded data removed]",
      "text/plain": [
       "<Figure size 432x288 with 1 Axes>"
      ]
     },
     "metadata": {
      "needs_background": "light"
     },
     "output_type": "display_data"
    }
   ],
   "source": [
    "plot_data_acc(training_accuracy_batch,validation_accuracy_batch)"
   ]
  },
  {
   "cell_type": "code",
   "execution_count": 37,
   "metadata": {},
   "outputs": [
    {
     "data": {
      "image/png": "[encoded data removed]",
      "text/plain": [
       "<Figure size 432x288 with 1 Axes>"
      ]
     },
     "metadata": {
      "needs_background": "light"
     },
     "output_type": "display_data"
    }
   ],
   "source": [
    "plot_data_loss(training_loss_batch,validation_loss_batch)"
   ]
  },
  {
   "cell_type": "code",
   "execution_count": null,
   "metadata": {},
   "outputs": [],
   "source": [
    "# CNN Model with Average Pooling Layer"
   ]
  },
  {
   "cell_type": "code",
   "execution_count": 22,
   "metadata": {},
   "outputs": [
    {
     "name": "stdout",
     "output_type": "stream",
     "text": [
      "Files already downloaded and verified\n",
      "Files already downloaded and verified\n",
      "[1,  2000] loss: 2.303\n",
      "[1,  4000] loss: 2.291\n",
      "[1,  6000] loss: 2.044\n",
      "[1,  8000] loss: 1.898\n",
      "[1, 10000] loss: 1.815\n",
      "[1,11250] train loss: 0.552 validation loss: 1.679 validation accuracy: 37.26\n",
      "[2,  2000] loss: 1.633\n",
      "[2,  4000] loss: 1.574\n",
      "[2,  6000] loss: 1.523\n",
      "[2,  8000] loss: 1.448\n",
      "[2, 10000] loss: 1.408\n",
      "[2,11250] train loss: 0.395 validation loss: 1.494 validation accuracy: 45.3\n",
      "[3,  2000] loss: 1.347\n",
      "[3,  4000] loss: 1.307\n",
      "[3,  6000] loss: 1.256\n",
      "[3,  8000] loss: 1.257\n",
      "[3, 10000] loss: 1.220\n",
      "[3,11250] train loss: 0.327 validation loss: 1.242 validation accuracy: 55.84\n",
      "[4,  2000] loss: 1.124\n",
      "[4,  4000] loss: 1.123\n",
      "[4,  6000] loss: 1.104\n",
      "[4,  8000] loss: 1.049\n",
      "[4, 10000] loss: 1.045\n",
      "[4,11250] train loss: 0.279 validation loss: 1.032 validation accuracy: 62.46\n",
      "[5,  2000] loss: 0.945\n",
      "[5,  4000] loss: 0.955\n",
      "[5,  6000] loss: 0.961\n",
      "[5,  8000] loss: 0.902\n",
      "[5, 10000] loss: 0.925\n",
      "[5,11250] train loss: 0.237 validation loss: 0.949 validation accuracy: 65.86\n",
      "[6,  2000] loss: 0.821\n",
      "[6,  4000] loss: 0.823\n",
      "[6,  6000] loss: 0.832\n",
      "[6,  8000] loss: 0.796\n",
      "[6, 10000] loss: 0.805\n",
      "[6,11250] train loss: 0.206 validation loss: 0.874 validation accuracy: 68.68\n",
      "[7,  2000] loss: 0.700\n",
      "[7,  4000] loss: 0.708\n",
      "[7,  6000] loss: 0.694\n",
      "[7,  8000] loss: 0.731\n",
      "[7, 10000] loss: 0.707\n",
      "[7,11250] train loss: 0.176 validation loss: 0.812 validation accuracy: 71.56\n",
      "[8,  2000] loss: 0.583\n",
      "[8,  4000] loss: 0.594\n",
      "[8,  6000] loss: 0.596\n",
      "[8,  8000] loss: 0.628\n",
      "[8, 10000] loss: 0.625\n",
      "[8,11250] train loss: 0.148 validation loss: 0.865 validation accuracy: 70.3\n",
      "[9,  2000] loss: 0.492\n",
      "[9,  4000] loss: 0.500\n",
      "[9,  6000] loss: 0.518\n",
      "[9,  8000] loss: 0.532\n",
      "[9, 10000] loss: 0.550\n",
      "[9,11250] train loss: 0.126 validation loss: 0.815 validation accuracy: 73.28\n",
      "[10,  2000] loss: 0.385\n",
      "[10,  4000] loss: 0.423\n",
      "[10,  6000] loss: 0.453\n",
      "[10,  8000] loss: 0.455\n",
      "[10, 10000] loss: 0.459\n",
      "[10,11250] train loss: 0.104 validation loss: 0.789 validation accuracy: 74.08\n",
      "Finished Training\n"
     ]
    }
   ],
   "source": [
    "trainloader,validationloader,testloader=dataset_loader()\n",
    "training_loss_avg,training_accuracy_avg,validation_loss_avg,validation_accuracy_avg=train(avg_pool,trainloader,validationloader)"
   ]
  },
  {
   "cell_type": "code",
   "execution_count": null,
   "metadata": {},
   "outputs": [],
   "source": [
    "plot_data_acc(training_accuracy_avg,validation_accuracy_avg)\n",
    "plot_data_loss(training_loss_avg,validation_loss_avg)\n"
   ]
  },
  {
   "cell_type": "code",
   "execution_count": 16,
   "metadata": {},
   "outputs": [
    {
     "name": "stdout",
     "output_type": "stream",
     "text": [
      "Files already downloaded and verified\n",
      "Files already downloaded and verified\n",
      "[1,  2000] loss: 2.304\n",
      "[1,  4000] loss: 2.304\n",
      "[1,  6000] loss: 2.304\n",
      "[1,  8000] loss: 2.303\n",
      "[1, 10000] loss: 2.303\n",
      "[1,11250] train loss: 0.576 validation loss: 2.303 validation accuracy: 9.96\n",
      "[2,  2000] loss: 2.303\n",
      "[2,  4000] loss: 2.303\n",
      "[2,  6000] loss: 2.303\n",
      "[2,  8000] loss: 2.303\n",
      "[2, 10000] loss: 2.303\n",
      "[2,11250] train loss: 0.576 validation loss: 2.304 validation accuracy: 9.96\n",
      "[3,  2000] loss: 2.304\n",
      "[3,  4000] loss: 2.303\n",
      "[3,  6000] loss: 2.303\n",
      "[3,  8000] loss: 2.303\n",
      "[3, 10000] loss: 2.303\n",
      "[3,11250] train loss: 0.576 validation loss: 2.303 validation accuracy: 10.68\n",
      "[4,  2000] loss: 2.303\n",
      "[4,  4000] loss: 2.303\n",
      "[4,  6000] loss: 2.303\n",
      "[4,  8000] loss: 2.303\n",
      "[4, 10000] loss: 2.303\n",
      "[4,11250] train loss: 0.576 validation loss: 2.303 validation accuracy: 9.96\n",
      "[5,  2000] loss: 2.304\n",
      "[5,  4000] loss: 2.303\n",
      "[5,  6000] loss: 2.303\n",
      "[5,  8000] loss: 2.304\n",
      "[5, 10000] loss: 2.303\n",
      "[5,11250] train loss: 0.576 validation loss: 2.303 validation accuracy: 9.96\n",
      "[6,  2000] loss: 2.303\n",
      "[6,  4000] loss: 2.303\n",
      "[6,  6000] loss: 2.303\n",
      "[6,  8000] loss: 2.303\n",
      "[6, 10000] loss: 2.304\n",
      "[6,11250] train loss: 0.576 validation loss: 2.303 validation accuracy: 10.1\n",
      "[7,  2000] loss: 2.303\n",
      "[7,  4000] loss: 2.303\n",
      "[7,  6000] loss: 2.303\n",
      "[7,  8000] loss: 2.303\n",
      "[7, 10000] loss: 2.303\n",
      "[7,11250] train loss: 0.576 validation loss: 2.305 validation accuracy: 9.6\n",
      "[8,  2000] loss: 2.303\n",
      "[8,  4000] loss: 2.303\n",
      "[8,  6000] loss: 2.303\n",
      "[8,  8000] loss: 2.304\n",
      "[8, 10000] loss: 2.304\n",
      "[8,11250] train loss: 0.576 validation loss: 2.303 validation accuracy: 10.1\n",
      "[9,  2000] loss: 2.303\n",
      "[9,  4000] loss: 2.303\n",
      "[9,  6000] loss: 2.303\n",
      "[9,  8000] loss: 2.304\n",
      "[9, 10000] loss: 2.303\n",
      "[9,11250] train loss: 0.576 validation loss: 2.303 validation accuracy: 10.2\n",
      "[10,  2000] loss: 2.303\n",
      "[10,  4000] loss: 2.303\n",
      "[10,  6000] loss: 2.303\n",
      "[10,  8000] loss: 2.303\n",
      "[10, 10000] loss: 2.303\n",
      "[10,11250] train loss: 0.576 validation loss: 2.303 validation accuracy: 9.88\n",
      "Finished Training\n"
     ]
    }
   ],
   "source": [
    "trainloader,validationloader,testloader=dataset_loader()\n",
    "training_loss_act,training_accuracy_act,validation_loss_act,validation_accuracy_act=train(act_pool,trainloader,validationloader)"
   ]
  },
  {
   "cell_type": "code",
   "execution_count": 19,
   "metadata": {},
   "outputs": [
    {
     "data": {
      "image/png": "[encoded data removed]",
      "text/plain": [
       "<Figure size 432x288 with 1 Axes>"
      ]
     },
     "metadata": {
      "needs_background": "light"
     },
     "output_type": "display_data"
    }
   ],
   "source": [
    "plot_data_acc(training_accuracy_act,validation_accuracy_act)"
   ]
  },
  {
   "cell_type": "code",
   "execution_count": 20,
   "metadata": {},
   "outputs": [
    {
     "data": {
      "image/png": "[encoded data removed]",
      "text/plain": [
       "<Figure size 432x288 with 1 Axes>"
      ]
     },
     "metadata": {
      "needs_background": "light"
     },
     "output_type": "display_data"
    }
   ],
   "source": [
    "plot_data_loss(training_loss_act,validation_loss_act)\n"
   ]
  },
  {
   "cell_type": "code",
   "execution_count": 97,
   "metadata": {},
   "outputs": [
    {
     "data": {
      "image/png": "[encoded data removed]",
      "text/plain": [
       "<Figure size 432x288 with 1 Axes>"
      ]
     },
     "metadata": {
      "needs_background": "light"
     },
     "output_type": "display_data"
    }
   ],
   "source": [
    "plot_data_loss(training_loss_batch,validation_loss_batch)"
   ]
  },
  {
   "cell_type": "code",
   "execution_count": 24,
   "metadata": {},
   "outputs": [
    {
     "data": {
      "image/png": "[encoded data removed]",
      "text/plain": [
       "<Figure size 432x288 with 1 Axes>"
      ]
     },
     "metadata": {
      "needs_background": "light"
     },
     "output_type": "display_data"
    }
   ],
   "source": [
    "plot_data_loss(training_loss_avg,validation_loss_avg)"
   ]
  },
  {
   "cell_type": "code",
   "execution_count": 26,
   "metadata": {},
   "outputs": [
    {
     "data": {
      "image/png": "[encoded data removed]",
      "text/plain": [
       "<Figure size 432x288 with 1 Axes>"
      ]
     },
     "metadata": {
      "needs_background": "light"
     },
     "output_type": "display_data"
    }
   ],
   "source": [
    "plot_data_acc(training_accuracy_avg,validation_accuracy_avg)"
   ]
  },
  {
   "cell_type": "markdown",
   "metadata": {},
   "source": [
    "AlexNet Initialization"
   ]
  },
  {
   "cell_type": "code",
   "execution_count": 9,
   "metadata": {},
   "outputs": [
    {
     "name": "stderr",
     "output_type": "stream",
     "text": [
      "Using cache found in /home/namratab/.cache/torch/hub/pytorch_vision_v0.10.0\n",
      "/home/namratab/anaconda3/lib/python3.9/site-packages/torchvision/models/_utils.py:208: UserWarning: The parameter 'pretrained' is deprecated since 0.13 and will be removed in 0.15, please use 'weights' instead.\n",
      "  warnings.warn(\n",
      "/home/namratab/anaconda3/lib/python3.9/site-packages/torchvision/models/_utils.py:223: UserWarning: Arguments other than a weight enum or `None` for 'weights' are deprecated since 0.13 and will be removed in 0.15. The current behavior is equivalent to passing `weights=AlexNet_Weights.IMAGENET1K_V1`. You can also use `weights=AlexNet_Weights.DEFAULT` to get the most up-to-date weights.\n",
      "  warnings.warn(msg)\n"
     ]
    }
   ],
   "source": [
    "Alex_model = torch.hub.load('pytorch/vision:v0.10.0', 'alexnet', pretrained=True)\n",
    "Alex_model.classifier[4]=nn.Linear(4096,1024)\n",
    "Alex_model.classifier[6]=nn.Linear(1024,10)"
   ]
  },
  {
   "cell_type": "code",
   "execution_count": 10,
   "metadata": {},
   "outputs": [
    {
     "data": {
      "text/plain": [
       "AlexNet(\n",
       "  (features): Sequential(\n",
       "    (0): Conv2d(3, 64, kernel_size=(11, 11), stride=(4, 4), padding=(2, 2))\n",
       "    (1): ReLU(inplace=True)\n",
       "    (2): MaxPool2d(kernel_size=3, stride=2, padding=0, dilation=1, ceil_mode=False)\n",
       "    (3): Conv2d(64, 192, kernel_size=(5, 5), stride=(1, 1), padding=(2, 2))\n",
       "    (4): ReLU(inplace=True)\n",
       "    (5): MaxPool2d(kernel_size=3, stride=2, padding=0, dilation=1, ceil_mode=False)\n",
       "    (6): Conv2d(192, 384, kernel_size=(3, 3), stride=(1, 1), padding=(1, 1))\n",
       "    (7): ReLU(inplace=True)\n",
       "    (8): Conv2d(384, 256, kernel_size=(3, 3), stride=(1, 1), padding=(1, 1))\n",
       "    (9): ReLU(inplace=True)\n",
       "    (10): Conv2d(256, 256, kernel_size=(3, 3), stride=(1, 1), padding=(1, 1))\n",
       "    (11): ReLU(inplace=True)\n",
       "    (12): MaxPool2d(kernel_size=3, stride=2, padding=0, dilation=1, ceil_mode=False)\n",
       "  )\n",
       "  (avgpool): AdaptiveAvgPool2d(output_size=(6, 6))\n",
       "  (classifier): Sequential(\n",
       "    (0): Dropout(p=0.5, inplace=False)\n",
       "    (1): Linear(in_features=9216, out_features=4096, bias=True)\n",
       "    (2): ReLU(inplace=True)\n",
       "    (3): Dropout(p=0.5, inplace=False)\n",
       "    (4): Linear(in_features=4096, out_features=1024, bias=True)\n",
       "    (5): ReLU(inplace=True)\n",
       "    (6): Linear(in_features=1024, out_features=10, bias=True)\n",
       "  )\n",
       ")"
      ]
     },
     "execution_count": 10,
     "metadata": {},
     "output_type": "execute_result"
    }
   ],
   "source": [
    "# Alex_model.eval()\n",
    "Alex_model.to(device)"
   ]
  },
  {
   "cell_type": "code",
   "execution_count": 11,
   "metadata": {},
   "outputs": [],
   "source": [
    "optimizer=optim.SGD(Alex_model.parameters(),lr=0.01,momentum=0.9)"
   ]
  },
  {
   "cell_type": "code",
   "execution_count": 12,
   "metadata": {},
   "outputs": [
    {
     "data": {
      "text/plain": [
       "AlexNet(\n",
       "  (features): Sequential(\n",
       "    (0): Conv2d(3, 64, kernel_size=(11, 11), stride=(4, 4), padding=(2, 2))\n",
       "    (1): ReLU(inplace=True)\n",
       "    (2): MaxPool2d(kernel_size=3, stride=2, padding=0, dilation=1, ceil_mode=False)\n",
       "    (3): Conv2d(64, 192, kernel_size=(5, 5), stride=(1, 1), padding=(2, 2))\n",
       "    (4): ReLU(inplace=True)\n",
       "    (5): MaxPool2d(kernel_size=3, stride=2, padding=0, dilation=1, ceil_mode=False)\n",
       "    (6): Conv2d(192, 384, kernel_size=(3, 3), stride=(1, 1), padding=(1, 1))\n",
       "    (7): ReLU(inplace=True)\n",
       "    (8): Conv2d(384, 256, kernel_size=(3, 3), stride=(1, 1), padding=(1, 1))\n",
       "    (9): ReLU(inplace=True)\n",
       "    (10): Conv2d(256, 256, kernel_size=(3, 3), stride=(1, 1), padding=(1, 1))\n",
       "    (11): ReLU(inplace=True)\n",
       "    (12): MaxPool2d(kernel_size=3, stride=2, padding=0, dilation=1, ceil_mode=False)\n",
       "  )\n",
       "  (avgpool): AdaptiveAvgPool2d(output_size=(6, 6))\n",
       "  (classifier): Sequential(\n",
       "    (0): Dropout(p=0.5, inplace=False)\n",
       "    (1): Linear(in_features=9216, out_features=4096, bias=True)\n",
       "    (2): ReLU(inplace=True)\n",
       "    (3): Dropout(p=0.5, inplace=False)\n",
       "    (4): Linear(in_features=4096, out_features=1024, bias=True)\n",
       "    (5): ReLU(inplace=True)\n",
       "    (6): Linear(in_features=1024, out_features=10, bias=True)\n",
       "  )\n",
       ")"
      ]
     },
     "execution_count": 12,
     "metadata": {},
     "output_type": "execute_result"
    }
   ],
   "source": [
    "Alex_model.eval()\n",
    "\n",
    "\n",
    "optimizer = optim.SGD(Alex_model.parameters(),lr=0.001,momentum=0.9)\n",
    "loss_func = nn.CrossEntropyLoss()\n",
    "\n",
    "Alex_model.to(device)"
   ]
  },
  {
   "cell_type": "code",
   "execution_count": null,
   "metadata": {},
   "outputs": [],
   "source": [
    "trainloader,validationloader,testloader=dataset_loader_alex()\n",
    "training_loss_act,training_accuracy_act,validation_loss_act,validation_accuracy_act=train_alex(Alex_model,trainloader,validationloader)"
   ]
  },
  {
   "cell_type": "code",
   "execution_count": 16,
   "metadata": {},
   "outputs": [],
   "source": [
    "def diagnostic_alex(model,batch):\n",
    "    correct = 0\n",
    "    total = 0\n",
    "    # since we're not training, we don't need to calculate the gradients for our outputs\n",
    "    with torch.no_grad():\n",
    "        loss_batch=[]\n",
    "        for data in batch:\n",
    "            images, labels = data[0].to(device),data[1].to(device)\n",
    "            # calculate outputs \n",
    "            #running images through the network\n",
    "            outputs = model(images)\n",
    "            # the class with the highest energy is what we choose as prediction\n",
    "            predicted = torch.argmax(outputs.data, 1)\n",
    "            total += labels.size(0)\n",
    "            correct += torch.sum(predicted == labels).sum().item()\n",
    "            # loss calculation \n",
    "            loss_batch.append(F.cross_entropy(outputs, labels))\n",
    "                \n",
    "        #print(f'Accuracy of the network on the 10000 test images: {100 * correct // total} %')\n",
    "        loss_batch_mean=torch.stack(loss_batch).mean()      \n",
    "        accuracy=100 * correct /total\n",
    "        return loss_batch_mean,accuracy\n",
    "\n",
    "    #print(f'Accuracy of the network on the 10000 test images: {100 * correct // class} %')"
   ]
  },
  {
   "cell_type": "code",
   "execution_count": 17,
   "metadata": {},
   "outputs": [],
   "source": [
    "def train_alex(model,trainloader,validationloader):\n",
    "    validation_accuracy=[]\n",
    "    validation_loss=[]\n",
    "    training_loss=[]\n",
    "    training_accuracy=[]\n",
    "    criterion = nn.CrossEntropyLoss()\n",
    "    optimizer = optim.SGD(model.parameters(), lr=0.001, momentum=0.9)\n",
    "\n",
    "\n",
    "    for epoch in range(5):  # loop over the dataset multiple times\n",
    "        running_loss = 0.0\n",
    "        batch_train_loss=0.0\n",
    "        batch_accuracy=[]\n",
    "        batch_loss=[]\n",
    "        total=0\n",
    "        correct=0\n",
    "        for i, data in enumerate(trainloader, 0):\n",
    "            # get the inputs; data is a list of [inputs, labels]\n",
    "            inputs, labels = data[0].to(device),data[1].to(device)\n",
    "            # zero the parameter gradients\n",
    "            optimizer.zero_grad()\n",
    "\n",
    "            # forward + backward + optimize\n",
    "            outputs = model(inputs)\n",
    "            \n",
    "            predicted = torch.max(outputs.data, 1)\n",
    "    #         print(predicted)\n",
    "            loss = criterion(outputs, labels)\n",
    "            loss.backward()\n",
    "            optimizer.step()\n",
    "            predicted = torch.argmax(outputs.data, 1)\n",
    "            total += labels.size(0)\n",
    "            correct += torch.sum(predicted == labels).item()\n",
    "            # print statistics\n",
    "            running_loss += loss.item()\n",
    "            batch_train_loss+=loss.item()\n",
    "            if i % 2000 == 1999:    # print every 2000 mini-batches\n",
    "                print(f'[{epoch + 1}, {i + 1:5d}] loss: {running_loss / 2000:.3f}')\n",
    "                running_loss = 0.0\n",
    "        \n",
    "        \n",
    "            batch_accuracy.append(correct/total)\n",
    "            batch_loss.append(batch_train_loss/total)\n",
    "            \n",
    "        train_accuracy=sum(batch_accuracy)/len(batch_accuracy)\n",
    "        train_loss=sum(batch_loss)/len(batch_loss)\n",
    "        \n",
    "        val_loss,val_accuracy=diagnostic_alex(Alex_model,validationloader)\n",
    "        validation_loss.append(val_loss)\n",
    "        validation_accuracy.append(val_accuracy)\n",
    "        \n",
    "        training_loss.append(train_loss)\n",
    "        training_accuracy.append(train_accuracy)\n",
    "    \n",
    "    \n",
    "    #     training_loss.append(train_loss)\n",
    "    #     train_accuracy.append(train_acc)\n",
    "        \n",
    "        print(f'[{epoch + 1},{i + 1:5d}] train loss: {train_loss:.3f} validation loss: {val_loss:.3f} validation accuracy: {val_accuracy}')\n",
    "        \n",
    "    print('Finished Training')\n",
    "    return training_loss,training_accuracy,validation_loss,validation_accuracy"
   ]
  },
  {
   "cell_type": "code",
   "execution_count": 18,
   "metadata": {},
   "outputs": [
    {
     "name": "stdout",
     "output_type": "stream",
     "text": [
      "Files already downloaded and verified\n",
      "Files already downloaded and verified\n",
      "[1,  2000] loss: 0.074\n",
      "[1,  4000] loss: 0.077\n",
      "[1,  6000] loss: 0.076\n",
      "[1,  8000] loss: 0.091\n",
      "[1, 10000] loss: 0.088\n",
      "[1,11250] train loss: 0.019 validation loss: 0.997 validation accuracy: 80.0\n",
      "[2,  2000] loss: 0.067\n",
      "[2,  4000] loss: 0.084\n",
      "[2,  6000] loss: 0.091\n",
      "[2,  8000] loss: 0.080\n",
      "[2, 10000] loss: 0.073\n",
      "[2,11250] train loss: 0.019 validation loss: 0.717 validation accuracy: 84.34\n",
      "[3,  2000] loss: 0.056\n",
      "[3,  4000] loss: 0.059\n",
      "[3,  6000] loss: 0.081\n",
      "[3,  8000] loss: 0.079\n",
      "[3, 10000] loss: 0.077\n",
      "[3,11250] train loss: 0.015 validation loss: 0.853 validation accuracy: 81.6\n",
      "[4,  2000] loss: 0.059\n",
      "[4,  4000] loss: 0.059\n",
      "[4,  6000] loss: 0.086\n",
      "[4,  8000] loss: 0.076\n",
      "[4, 10000] loss: 0.055\n",
      "[4,11250] train loss: 0.016 validation loss: 0.966 validation accuracy: 80.94\n",
      "[5,  2000] loss: 0.056\n",
      "[5,  4000] loss: 0.048\n",
      "[5,  6000] loss: 0.076\n",
      "[5,  8000] loss: 0.081\n",
      "[5, 10000] loss: 0.070\n",
      "[5,11250] train loss: 0.015 validation loss: 0.809 validation accuracy: 82.76\n",
      "[6,  2000] loss: 0.055\n",
      "[6,  4000] loss: 0.047\n",
      "[6,  6000] loss: 0.060\n",
      "[6,  8000] loss: 0.057\n",
      "[6, 10000] loss: 0.063\n",
      "[6,11250] train loss: 0.014 validation loss: 0.961 validation accuracy: 83.24\n",
      "[7,  2000] loss: 0.053\n",
      "[7,  4000] loss: 0.075\n",
      "[7,  6000] loss: 0.056\n",
      "[7,  8000] loss: 0.059\n",
      "[7, 10000] loss: 0.072\n",
      "[7,11250] train loss: 0.014 validation loss: 0.865 validation accuracy: 83.42\n",
      "[8,  2000] loss: 0.061\n",
      "[8,  4000] loss: 0.064\n",
      "[8,  6000] loss: 0.072\n",
      "[8,  8000] loss: 0.071\n",
      "[8, 10000] loss: 0.087\n",
      "[8,11250] train loss: 0.018 validation loss: 0.960 validation accuracy: 83.42\n",
      "[9,  2000] loss: 0.052\n",
      "[9,  4000] loss: 0.068\n",
      "[9,  6000] loss: 0.046\n",
      "[9,  8000] loss: 0.056\n",
      "[9, 10000] loss: 0.055\n",
      "[9,11250] train loss: 0.013 validation loss: 0.808 validation accuracy: 82.64\n",
      "[10,  2000] loss: 0.056\n",
      "[10,  4000] loss: 0.066\n",
      "[10,  6000] loss: 0.095\n",
      "[10,  8000] loss: 0.058\n",
      "[10, 10000] loss: 0.062\n",
      "[10,11250] train loss: 0.016 validation loss: 0.923 validation accuracy: 82.86\n",
      "Finished Training\n"
     ]
    }
   ],
   "source": [
    "trainloader_alex,validation_alex,test_laoder=dataset_loader_alex()\n",
    "training_loss,training_accuracy,validation_loss,validation_accuracy=train_alex(Alex_model,trainloader_alex,validation_alex)"
   ]
  },
  {
   "cell_type": "code",
   "execution_count": 20,
   "metadata": {},
   "outputs": [
    {
     "data": {
      "image/png": "[encoded data removed]",
      "text/plain": [
       "<Figure size 432x288 with 1 Axes>"
      ]
     },
     "metadata": {
      "needs_background": "light"
     },
     "output_type": "display_data"
    }
   ],
   "source": [
    "plot_data_acc(training_accuracy,validation_accuracy)"
   ]
  },
  {
   "cell_type": "code",
   "execution_count": 21,
   "metadata": {},
   "outputs": [
    {
     "data": {
      "image/png": "[encoded data removed]",
      "text/plain": [
       "<Figure size 432x288 with 1 Axes>"
      ]
     },
     "metadata": {
      "needs_background": "light"
     },
     "output_type": "display_data"
    }
   ],
   "source": [
    "plot_data_loss(training_loss,validation_loss)"
   ]
  },
  {
   "cell_type": "code",
   "execution_count": 35,
   "metadata": {},
   "outputs": [
    {
     "data": {
      "text/plain": [
       "AlexNet(\n",
       "  (features): Sequential(\n",
       "    (0): Conv2d(3, 64, kernel_size=(11, 11), stride=(4, 4), padding=(2, 2))\n",
       "    (1): ReLU(inplace=True)\n",
       "    (2): MaxPool2d(kernel_size=3, stride=2, padding=0, dilation=1, ceil_mode=False)\n",
       "    (3): Conv2d(64, 192, kernel_size=(5, 5), stride=(1, 1), padding=(2, 2))\n",
       "    (4): ReLU(inplace=True)\n",
       "    (5): MaxPool2d(kernel_size=3, stride=2, padding=0, dilation=1, ceil_mode=False)\n",
       "    (6): Conv2d(192, 384, kernel_size=(3, 3), stride=(1, 1), padding=(1, 1))\n",
       "    (7): ReLU(inplace=True)\n",
       "    (8): Conv2d(384, 256, kernel_size=(3, 3), stride=(1, 1), padding=(1, 1))\n",
       "    (9): ReLU(inplace=True)\n",
       "    (10): Conv2d(256, 256, kernel_size=(3, 3), stride=(1, 1), padding=(1, 1))\n",
       "    (11): ReLU(inplace=True)\n",
       "    (12): MaxPool2d(kernel_size=3, stride=2, padding=0, dilation=1, ceil_mode=False)\n",
       "  )\n",
       "  (avgpool): AdaptiveAvgPool2d(output_size=(6, 6))\n",
       "  (classifier): Sequential(\n",
       "    (0): Dropout(p=0.5, inplace=False)\n",
       "    (1): Linear(in_features=9216, out_features=4096, bias=True)\n",
       "    (2): ReLU(inplace=True)\n",
       "    (3): Dropout(p=0.5, inplace=False)\n",
       "    (4): Linear(in_features=4096, out_features=4096, bias=True)\n",
       "    (5): ReLU(inplace=True)\n",
       "    (6): Linear(in_features=4096, out_features=1000, bias=True)\n",
       "  )\n",
       ")"
      ]
     },
     "execution_count": 35,
     "metadata": {},
     "output_type": "execute_result"
    }
   ],
   "source": [
    "model.to(device)"
   ]
  },
  {
   "cell_type": "code",
   "execution_count": 22,
   "metadata": {},
   "outputs": [
    {
     "data": {
      "text/plain": [
       "(tensor(0.8679, device='cuda:0'), 83.2)"
      ]
     },
     "execution_count": 22,
     "metadata": {},
     "output_type": "execute_result"
    }
   ],
   "source": [
    "diagnostic_alex(Alex_model,testloader)"
   ]
  }
 ],
 "metadata": {
  "interpreter": {
   "hash": "804f7caf7f4999a18ab35f1778cc535baabd20359a9389b17d6718af29461c57"
  },
  "kernelspec": {
   "display_name": "Python 3 (ipykernel)",
   "language": "python",
   "name": "python3"
  },
  "language_info": {
   "codemirror_mode": {
    "name": "ipython",
    "version": 3
   },
   "file_extension": ".py",
   "mimetype": "text/x-python",
   "name": "python",
   "nbconvert_exporter": "python",
   "pygments_lexer": "ipython3",
   "version": "3.9.12"
  }
 },
 "nbformat": 4,
 "nbformat_minor": 2
}
